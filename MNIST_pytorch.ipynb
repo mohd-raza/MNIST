{
  "nbformat": 4,
  "nbformat_minor": 0,
  "metadata": {
    "colab": {
      "provenance": [],
      "collapsed_sections": [],
      "mount_file_id": "1j2p4JR7nB7uhOS3LHjmMXuKvGTXsZ2Ef",
      "authorship_tag": "ABX9TyPto/fea+MG4GvPF8Zg+6iF",
      "include_colab_link": true
    },
    "kernelspec": {
      "name": "python3",
      "display_name": "Python 3"
    },
    "language_info": {
      "name": "python"
    },
    "accelerator": "GPU",
    "gpuClass": "standard"
  },
  "cells": [
    {
      "cell_type": "markdown",
      "metadata": {
        "id": "view-in-github",
        "colab_type": "text"
      },
      "source": [
        "<a href=\"https://colab.research.google.com/github/mohd-raza/MNIST/blob/main/MNIST_pytorch.ipynb\" target=\"_parent\"><img src=\"https://colab.research.google.com/assets/colab-badge.svg\" alt=\"Open In Colab\"/></a>"
      ]
    },
    {
      "cell_type": "code",
      "execution_count": 2,
      "metadata": {
        "id": "mmweTMooImqg"
      },
      "outputs": [],
      "source": [
        "import pandas as pd"
      ]
    },
    {
      "cell_type": "code",
      "source": [
        "import numpy as np # linear algebra\n",
        "import pandas as pd # data processing, CSV file I/O (e.g. pd.read_csv)\n",
        "import matplotlib.pyplot as plt # for plotting beautiful graphs\n",
        "\n",
        "# train test split from sklearn\n",
        "from sklearn.model_selection import train_test_split\n",
        "\n",
        "# Import Torch \n",
        "import torch\n",
        "import torch.nn as nn\n",
        "from torchvision import transforms, models\n",
        "# from torch.utils.data import SubsetRandomSampler\n",
        "from torch.autograd import Variable\n",
        "from torch import nn, optim\n",
        "import torch.nn.functional as F"
      ],
      "metadata": {
        "id": "E1x1j94tJso6"
      },
      "execution_count": 3,
      "outputs": []
    },
    {
      "cell_type": "code",
      "source": [
        "train = pd.read_csv(\"/content/drive/MyDrive/MNIST/train.csv\",dtype=np.float32)\n",
        "final_test = pd.read_csv(\"/content/drive/MyDrive/MNIST/test.csv\",dtype=np.float32)"
      ],
      "metadata": {
        "id": "0Up8c5TxJzPy"
      },
      "execution_count": 4,
      "outputs": []
    },
    {
      "cell_type": "code",
      "source": [
        "train.label.head()"
      ],
      "metadata": {
        "colab": {
          "base_uri": "https://localhost:8080/"
        },
        "id": "wrfJYAkYM66P",
        "outputId": "b1ae51b4-27bc-4db7-caa8-669a3ef88754"
      },
      "execution_count": 5,
      "outputs": [
        {
          "output_type": "execute_result",
          "data": {
            "text/plain": [
              "0    1.0\n",
              "1    0.0\n",
              "2    1.0\n",
              "3    4.0\n",
              "4    0.0\n",
              "Name: label, dtype: float32"
            ]
          },
          "metadata": {},
          "execution_count": 5
        }
      ]
    },
    {
      "cell_type": "code",
      "source": [
        "train.info()"
      ],
      "metadata": {
        "colab": {
          "base_uri": "https://localhost:8080/"
        },
        "id": "5MK_cjATM9Tw",
        "outputId": "fb421916-548f-48ca-be0b-ba8706245683"
      },
      "execution_count": 6,
      "outputs": [
        {
          "output_type": "stream",
          "name": "stdout",
          "text": [
            "<class 'pandas.core.frame.DataFrame'>\n",
            "RangeIndex: 42000 entries, 0 to 41999\n",
            "Columns: 785 entries, label to pixel783\n",
            "dtypes: float32(785)\n",
            "memory usage: 125.8 MB\n"
          ]
        }
      ]
    },
    {
      "cell_type": "code",
      "source": [
        "# seperate the features and labels\n",
        "target_np = train.label.values\n",
        "features_np = train.loc[:,train.columns != 'label'].values/255"
      ],
      "metadata": {
        "id": "7Sho1i2jNCAl"
      },
      "execution_count": 7,
      "outputs": []
    },
    {
      "cell_type": "code",
      "source": [
        "features_train,features_test,target_train,target_test = train_test_split(\n",
        "    features_np,target_np,test_size=0.2,random_state=42\n",
        ")"
      ],
      "metadata": {
        "id": "_KSjpUh1NSsz"
      },
      "execution_count": 8,
      "outputs": []
    },
    {
      "cell_type": "code",
      "source": [
        "featuresTrain = torch.from_numpy(features_train)\n",
        "targetsTrain = torch.from_numpy(target_train).type(torch.LongTensor)"
      ],
      "metadata": {
        "id": "-MgrFgH7Nfej"
      },
      "execution_count": 9,
      "outputs": []
    },
    {
      "cell_type": "code",
      "source": [
        "# create feature and targets tensor for test set.\n",
        "featuresTest = torch.from_numpy(features_test)\n",
        "targetsTest = torch.from_numpy(target_test).type(torch.LongTensor) # data type is long"
      ],
      "metadata": {
        "id": "et36iueoNzd1"
      },
      "execution_count": 10,
      "outputs": []
    },
    {
      "cell_type": "code",
      "source": [
        "batch_size = 256\n",
        "# Pytorch train and test sets\n",
        "train = torch.utils.data.TensorDataset(featuresTrain,targetsTrain)\n",
        "test = torch.utils.data.TensorDataset(featuresTest,targetsTest)\n",
        "\n",
        "# data loader\n",
        "train_loader = torch.utils.data.DataLoader(train, batch_size = batch_size, shuffle = True)\n",
        "test_loader = torch.utils.data.DataLoader(test, batch_size = batch_size, shuffle = True)"
      ],
      "metadata": {
        "id": "rG2fu2kJOVoi"
      },
      "execution_count": 11,
      "outputs": []
    },
    {
      "cell_type": "code",
      "source": [
        "# visualize one of the images in data set\n",
        "def visualize_image(data, index, pred=False, val=0):\n",
        "    '''This funtion can be used to visualize the images'''\n",
        "    print(data[index].shape)\n",
        "    plt.imshow(data[index].reshape(28,28))\n",
        "    plt.axis(\"off\")\n",
        "    plt.title(\"Handwritten Digit Image\")\n",
        "    plt.show()\n",
        "visualize_image(features_np, 69)"
      ],
      "metadata": {
        "colab": {
          "base_uri": "https://localhost:8080/",
          "height": 282
        },
        "id": "pbfh96eJQBk_",
        "outputId": "96f8bbf0-fe09-4abf-e4b4-cfb10664c6fe"
      },
      "execution_count": 14,
      "outputs": [
        {
          "output_type": "stream",
          "name": "stdout",
          "text": [
            "(784,)\n"
          ]
        },
        {
          "output_type": "display_data",
          "data": {
            "text/plain": [
              "<Figure size 432x288 with 1 Axes>"
            ],
            "image/png": "[encoded data removed]"
          },
          "metadata": {
            "needs_background": "light"
          }
        }
      ]
    },
    {
      "cell_type": "code",
      "source": [
        "featuresTrain.shape"
      ],
      "metadata": {
        "colab": {
          "base_uri": "https://localhost:8080/"
        },
        "id": "-9ekt_PjRz8F",
        "outputId": "4c6bd7e6-b12e-4253-a170-6061db3ac7ad"
      },
      "execution_count": 15,
      "outputs": [
        {
          "output_type": "execute_result",
          "data": {
            "text/plain": [
              "torch.Size([33600, 784])"
            ]
          },
          "metadata": {},
          "execution_count": 15
        }
      ]
    },
    {
      "cell_type": "code",
      "source": [
        "class Classifier(nn.Module):\n",
        "  def __init__(self) -> None:\n",
        "    super().__init__()\n",
        "    #  5 Hidden Layer Network\n",
        "    self.fc1 = nn.Linear(28*28,512)\n",
        "    self.fc2 = nn.Linear(512,256)\n",
        "    self.fc3 = nn.Linear(256,128)\n",
        "    self.fc4 = nn.Linear(128,64)\n",
        "    self.fc5 = nn.Linear(64,10)\n",
        "\n",
        "    # Dropout module with 0.2 probbability\n",
        "    self.dropout = nn.Dropout(p=0.2)\n",
        "    # Add softmax on output layer\n",
        "    self.log_softmax = F.log_softmax\n",
        "  \n",
        "  def forward(self,x):\n",
        "    x = self.dropout(F.relu(self.fc1(x)))\n",
        "    x = self.dropout(F.relu(self.fc2(x)))\n",
        "    x = self.dropout(F.relu(self.fc3(x)))\n",
        "    x = self.dropout(F.relu(self.fc4(x)))\n",
        "        \n",
        "    x = self.log_softmax(self.fc5(x), dim=1)\n",
        "    return x "
      ],
      "metadata": {
        "id": "CC62CnBtSD7n"
      },
      "execution_count": 19,
      "outputs": []
    },
    {
      "cell_type": "markdown",
      "source": [
        "# Training & Validation"
      ],
      "metadata": {
        "id": "pFSp3lJ4UMBN"
      }
    },
    {
      "cell_type": "code",
      "source": [
        "model = Classifier()\n",
        "criterion = nn.NLLLoss()\n",
        "optimizer = optim.Adam(model.parameters(),lr = 0.0010)\n",
        "\n",
        "epochs = 25\n",
        "steps = 0\n",
        "print_every = 50\n",
        "train_losses,test_losses = [],[]\n",
        "for e in range (epochs):\n",
        "  running_loss = 0\n",
        "  for images,labels in train_loader:\n",
        "    steps += 1\n",
        "    # Prevent accumulation of gradients\n",
        "    optimizer.zero_grad()\n",
        "    # make pred\n",
        "    log_ps = model(images)\n",
        "    loss = criterion(log_ps,labels)\n",
        "    # backprop\n",
        "    loss.backward()\n",
        "    optimizer.step()\n",
        "\n",
        "    running_loss += loss.item()\n",
        "    if steps % print_every == 0:\n",
        "      test_loss = 0\n",
        "      accuracy = 0\n",
        "\n",
        "      with torch.no_grad():\n",
        "        model.eval()\n",
        "        for images,labels in test_loader:\n",
        "          log_ps = model(images)\n",
        "          test_loss += criterion(log_ps,labels)\n",
        "          ps = torch.exp(log_ps)\n",
        "          # get our top pred\n",
        "          top_p,top_class = ps.topk(1,dim=1)\n",
        "          equals = top_class == labels.view(*top_class.shape)\n",
        "          accuracy += torch.mean(equals.type(torch.FloatTensor))\n",
        "      \n",
        "      model.train()\n",
        "      train_losses.append(running_loss/len(train_loader))\n",
        "      test_losses.append(test_loss/len(test_loader))\n",
        "      print(\"Epoch: {}/{}.. \".format(e+1, epochs),\n",
        "                  \"Training Loss: {:.3f}.. \".format(train_losses[-1]),\n",
        "                  \"Test Loss: {:.3f}.. \".format(test_losses[-1]),\n",
        "                  \"Test Accuracy: {:.3f}\".format(accuracy/len(test_loader)))\n"
      ],
      "metadata": {
        "colab": {
          "base_uri": "https://localhost:8080/"
        },
        "id": "6g4Ps0ofT_Y5",
        "outputId": "745ae31c-e8d3-4fdd-9eb3-d79b5a859811"
      },
      "execution_count": 20,
      "outputs": [
        {
          "output_type": "stream",
          "name": "stdout",
          "text": [
            "Epoch: 1/25..  Training Loss: 0.499..  Test Loss: 0.478..  Test Accuracy: 0.860\n",
            "Epoch: 1/25..  Training Loss: 0.683..  Test Loss: 0.308..  Test Accuracy: 0.908\n",
            "Epoch: 2/25..  Training Loss: 0.042..  Test Loss: 0.258..  Test Accuracy: 0.924\n",
            "Epoch: 2/25..  Training Loss: 0.142..  Test Loss: 0.211..  Test Accuracy: 0.938\n",
            "Epoch: 2/25..  Training Loss: 0.227..  Test Loss: 0.179..  Test Accuracy: 0.947\n",
            "Epoch: 3/25..  Training Loss: 0.048..  Test Loss: 0.158..  Test Accuracy: 0.952\n",
            "Epoch: 3/25..  Training Loss: 0.113..  Test Loss: 0.151..  Test Accuracy: 0.955\n",
            "Epoch: 4/25..  Training Loss: 0.004..  Test Loss: 0.136..  Test Accuracy: 0.959\n",
            "Epoch: 4/25..  Training Loss: 0.052..  Test Loss: 0.126..  Test Accuracy: 0.962\n",
            "Epoch: 4/25..  Training Loss: 0.101..  Test Loss: 0.119..  Test Accuracy: 0.964\n",
            "Epoch: 5/25..  Training Loss: 0.018..  Test Loss: 0.117..  Test Accuracy: 0.966\n",
            "Epoch: 5/25..  Training Loss: 0.059..  Test Loss: 0.111..  Test Accuracy: 0.968\n",
            "Epoch: 5/25..  Training Loss: 0.097..  Test Loss: 0.111..  Test Accuracy: 0.968\n",
            "Epoch: 6/25..  Training Loss: 0.026..  Test Loss: 0.101..  Test Accuracy: 0.970\n",
            "Epoch: 6/25..  Training Loss: 0.058..  Test Loss: 0.104..  Test Accuracy: 0.969\n",
            "Epoch: 7/25..  Training Loss: 0.004..  Test Loss: 0.094..  Test Accuracy: 0.972\n",
            "Epoch: 7/25..  Training Loss: 0.029..  Test Loss: 0.097..  Test Accuracy: 0.972\n",
            "Epoch: 7/25..  Training Loss: 0.056..  Test Loss: 0.099..  Test Accuracy: 0.972\n",
            "Epoch: 8/25..  Training Loss: 0.013..  Test Loss: 0.106..  Test Accuracy: 0.971\n",
            "Epoch: 8/25..  Training Loss: 0.034..  Test Loss: 0.097..  Test Accuracy: 0.974\n",
            "Epoch: 8/25..  Training Loss: 0.057..  Test Loss: 0.093..  Test Accuracy: 0.975\n",
            "Epoch: 9/25..  Training Loss: 0.018..  Test Loss: 0.095..  Test Accuracy: 0.974\n",
            "Epoch: 9/25..  Training Loss: 0.039..  Test Loss: 0.096..  Test Accuracy: 0.973\n",
            "Epoch: 10/25..  Training Loss: 0.004..  Test Loss: 0.096..  Test Accuracy: 0.973\n",
            "Epoch: 10/25..  Training Loss: 0.021..  Test Loss: 0.101..  Test Accuracy: 0.973\n",
            "Epoch: 10/25..  Training Loss: 0.040..  Test Loss: 0.098..  Test Accuracy: 0.974\n",
            "Epoch: 11/25..  Training Loss: 0.009..  Test Loss: 0.101..  Test Accuracy: 0.975\n",
            "Epoch: 11/25..  Training Loss: 0.026..  Test Loss: 0.093..  Test Accuracy: 0.975\n",
            "Epoch: 11/25..  Training Loss: 0.042..  Test Loss: 0.107..  Test Accuracy: 0.972\n",
            "Epoch: 12/25..  Training Loss: 0.013..  Test Loss: 0.098..  Test Accuracy: 0.975\n",
            "Epoch: 12/25..  Training Loss: 0.027..  Test Loss: 0.095..  Test Accuracy: 0.974\n",
            "Epoch: 13/25..  Training Loss: 0.005..  Test Loss: 0.106..  Test Accuracy: 0.972\n",
            "Epoch: 13/25..  Training Loss: 0.015..  Test Loss: 0.098..  Test Accuracy: 0.977\n",
            "Epoch: 13/25..  Training Loss: 0.028..  Test Loss: 0.101..  Test Accuracy: 0.976\n",
            "Epoch: 14/25..  Training Loss: 0.008..  Test Loss: 0.119..  Test Accuracy: 0.974\n",
            "Epoch: 14/25..  Training Loss: 0.019..  Test Loss: 0.100..  Test Accuracy: 0.976\n",
            "Epoch: 15/25..  Training Loss: 0.001..  Test Loss: 0.092..  Test Accuracy: 0.977\n",
            "Epoch: 15/25..  Training Loss: 0.011..  Test Loss: 0.108..  Test Accuracy: 0.976\n",
            "Epoch: 15/25..  Training Loss: 0.022..  Test Loss: 0.096..  Test Accuracy: 0.977\n",
            "Epoch: 16/25..  Training Loss: 0.003..  Test Loss: 0.105..  Test Accuracy: 0.976\n",
            "Epoch: 16/25..  Training Loss: 0.013..  Test Loss: 0.109..  Test Accuracy: 0.975\n",
            "Epoch: 16/25..  Training Loss: 0.024..  Test Loss: 0.110..  Test Accuracy: 0.975\n",
            "Epoch: 17/25..  Training Loss: 0.007..  Test Loss: 0.109..  Test Accuracy: 0.975\n",
            "Epoch: 17/25..  Training Loss: 0.019..  Test Loss: 0.096..  Test Accuracy: 0.977\n",
            "Epoch: 18/25..  Training Loss: 0.001..  Test Loss: 0.110..  Test Accuracy: 0.975\n",
            "Epoch: 18/25..  Training Loss: 0.011..  Test Loss: 0.098..  Test Accuracy: 0.977\n",
            "Epoch: 18/25..  Training Loss: 0.021..  Test Loss: 0.093..  Test Accuracy: 0.979\n",
            "Epoch: 19/25..  Training Loss: 0.007..  Test Loss: 0.103..  Test Accuracy: 0.977\n",
            "Epoch: 19/25..  Training Loss: 0.015..  Test Loss: 0.098..  Test Accuracy: 0.978\n",
            "Epoch: 19/25..  Training Loss: 0.022..  Test Loss: 0.107..  Test Accuracy: 0.977\n",
            "Epoch: 20/25..  Training Loss: 0.005..  Test Loss: 0.121..  Test Accuracy: 0.976\n",
            "Epoch: 20/25..  Training Loss: 0.014..  Test Loss: 0.105..  Test Accuracy: 0.977\n",
            "Epoch: 21/25..  Training Loss: 0.002..  Test Loss: 0.123..  Test Accuracy: 0.976\n",
            "Epoch: 21/25..  Training Loss: 0.010..  Test Loss: 0.116..  Test Accuracy: 0.975\n",
            "Epoch: 21/25..  Training Loss: 0.019..  Test Loss: 0.109..  Test Accuracy: 0.977\n",
            "Epoch: 22/25..  Training Loss: 0.003..  Test Loss: 0.101..  Test Accuracy: 0.977\n",
            "Epoch: 22/25..  Training Loss: 0.010..  Test Loss: 0.109..  Test Accuracy: 0.975\n",
            "Epoch: 22/25..  Training Loss: 0.018..  Test Loss: 0.125..  Test Accuracy: 0.974\n",
            "Epoch: 23/25..  Training Loss: 0.007..  Test Loss: 0.107..  Test Accuracy: 0.978\n",
            "Epoch: 23/25..  Training Loss: 0.014..  Test Loss: 0.110..  Test Accuracy: 0.977\n",
            "Epoch: 24/25..  Training Loss: 0.002..  Test Loss: 0.112..  Test Accuracy: 0.977\n",
            "Epoch: 24/25..  Training Loss: 0.009..  Test Loss: 0.099..  Test Accuracy: 0.980\n",
            "Epoch: 24/25..  Training Loss: 0.014..  Test Loss: 0.100..  Test Accuracy: 0.980\n",
            "Epoch: 25/25..  Training Loss: 0.004..  Test Loss: 0.108..  Test Accuracy: 0.977\n",
            "Epoch: 25/25..  Training Loss: 0.010..  Test Loss: 0.108..  Test Accuracy: 0.977\n",
            "Epoch: 25/25..  Training Loss: 0.018..  Test Loss: 0.103..  Test Accuracy: 0.978\n"
          ]
        }
      ]
    },
    {
      "cell_type": "code",
      "source": [
        "%matplotlib inline\n",
        "%config InlineBackend.figure_format = 'retina'\n",
        "\n",
        "plt.plot(train_losses, label='Training loss')\n",
        "plt.plot(test_losses, label='Validation loss')\n",
        "plt.legend(frameon=False)"
      ],
      "metadata": {
        "colab": {
          "base_uri": "https://localhost:8080/",
          "height": 283
        },
        "id": "FfanooBQWnJ2",
        "outputId": "e3942caa-0123-49c1-8f9f-442a490e5551"
      },
      "execution_count": 21,
      "outputs": [
        {
          "output_type": "execute_result",
          "data": {
            "text/plain": [
              "<matplotlib.legend.Legend at 0x7f9ff1e7e810>"
            ]
          },
          "metadata": {},
          "execution_count": 21
        },
        {
          "output_type": "display_data",
          "data": {
            "text/plain": [
              "<Figure size 432x288 with 1 Axes>"
            ],
            "image/png": "[encoded data removed]"
          },
          "metadata": {
            "image/png": {
              "width": 372,
              "height": 248
            },
            "needs_background": "light"
          }
        }
      ]
    },
    {
      "cell_type": "code",
      "source": [
        "def view_classify(img, ps):\n",
        "    ''' Function for viewing an image and it's predicted classes.\n",
        "    '''\n",
        "    ps = ps.data.numpy().squeeze()\n",
        "\n",
        "    fig, (ax1, ax2) = plt.subplots(figsize=(6,9), ncols=2)\n",
        "    ax1.imshow(img.resize_(1, 28, 28).numpy().squeeze())\n",
        "    ax1.axis('off')\n",
        "    ax2.barh(np.arange(10), ps)\n",
        "    ax2.set_aspect(0.1)\n",
        "    ax2.set_yticks(np.arange(10))\n",
        "    ax2.set_yticklabels(np.arange(10))\n",
        "    ax2.set_title('Class Probability')\n",
        "    ax2.set_xlim(0, 1.1)\n",
        "\n",
        "    plt.tight_layout()"
      ],
      "metadata": {
        "id": "kVwBJ3RzXXKu"
      },
      "execution_count": 22,
      "outputs": []
    },
    {
      "cell_type": "code",
      "source": [
        "%matplotlib inline\n",
        "def make_prediction(data):\n",
        "    images, labels = next(iter(data))\n",
        "\n",
        "    img = images[69].view(1, 784)\n",
        "    # Turn off gradients to speed up this part\n",
        "    with torch.no_grad():\n",
        "        logps = model(img)\n",
        "\n",
        "    # Output of the network are log-probabilities, need to take exponential for probabilities\n",
        "    ps = torch.exp(logps)\n",
        "    view_classify(img.view(1, 28, 28), ps)\n",
        "make_prediction(test_loader)"
      ],
      "metadata": {
        "colab": {
          "base_uri": "https://localhost:8080/",
          "height": 252
        },
        "id": "09jfWrbAXejP",
        "outputId": "30c126bb-6d65-4236-872a-2c099e69c54c"
      },
      "execution_count": 25,
      "outputs": [
        {
          "output_type": "display_data",
          "data": {
            "text/plain": [
              "<Figure size 432x648 with 2 Axes>"
            ],
            "image/png": "[encoded data removed]"
          },
          "metadata": {
            "image/png": {
              "width": 424,
              "height": 235
            },
            "needs_background": "light"
          }
        }
      ]
    },
    {
      "cell_type": "code",
      "source": [
        "final_test_np = final_test.values/255\n",
        "test_tn = torch.from_numpy(final_test_np)"
      ],
      "metadata": {
        "id": "CC6tl1n5Xnoy"
      },
      "execution_count": 26,
      "outputs": []
    },
    {
      "cell_type": "code",
      "source": [
        "#  Creating fake labels for convenience of passing into DataLoader\n",
        "## CAUTION: There are other ways of doing this, I just did it this way\n",
        "fake_labels = np.zeros(final_test_np.shape)\n",
        "fake_labels = torch.from_numpy(fake_labels)"
      ],
      "metadata": {
        "id": "_2sRdR4FX0Yp"
      },
      "execution_count": 27,
      "outputs": []
    },
    {
      "cell_type": "code",
      "source": [
        "submission_tn_data = torch.utils.data.TensorDataset(test_tn, fake_labels)\n",
        "\n",
        "submission_loader = torch.utils.data.DataLoader(submission_tn_data, batch_size = batch_size, shuffle = False)"
      ],
      "metadata": {
        "id": "Zrrh6ncmX4aX"
      },
      "execution_count": 28,
      "outputs": []
    },
    {
      "cell_type": "code",
      "source": [
        "# Seeing what our model does on test data\n",
        "make_prediction(submission_loader)"
      ],
      "metadata": {
        "colab": {
          "base_uri": "https://localhost:8080/",
          "height": 252
        },
        "id": "nGY5HbY2X9qz",
        "outputId": "992e8ffc-2b95-4835-b58d-cf87b4235e49"
      },
      "execution_count": 30,
      "outputs": [
        {
          "output_type": "display_data",
          "data": {
            "text/plain": [
              "<Figure size 432x648 with 2 Axes>"
            ],
            "image/png": "[encoded data removed]"
          },
          "metadata": {
            "image/png": {
              "width": 424,
              "height": 235
            },
            "needs_background": "light"
          }
        }
      ]
    },
    {
      "cell_type": "code",
      "source": [
        "# Making it submission ready\n",
        "submission = [['ImageId', 'Label']]\n",
        "\n",
        "# Turn off gradients for validation\n",
        "with torch.no_grad():\n",
        "    model.eval()\n",
        "    image_id = 1\n",
        "    for images, _ in submission_loader:\n",
        "        log_ps = model(images)\n",
        "        ps = torch.exp(log_ps)\n",
        "        top_p, top_class = ps.topk(1, dim=1)\n",
        "        \n",
        "        for prediction in top_class:\n",
        "            submission.append([image_id, prediction.item()])\n",
        "            image_id += 1"
      ],
      "metadata": {
        "id": "BhnZ71K9X_Kh"
      },
      "execution_count": 31,
      "outputs": []
    },
    {
      "cell_type": "code",
      "source": [],
      "metadata": {
        "id": "IKP1xwOZYF7Y"
      },
      "execution_count": null,
      "outputs": []
    }
  ]
}